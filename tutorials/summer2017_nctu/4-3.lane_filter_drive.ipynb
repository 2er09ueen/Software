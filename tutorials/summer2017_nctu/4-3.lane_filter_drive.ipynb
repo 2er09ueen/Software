{
 "cells": [
  {
   "cell_type": "markdown",
   "metadata": {},
   "source": [
    "# 4-3 Lane Filter and Car Commands\n"
   ]
  },
  {
   "cell_type": "code",
   "execution_count": null,
   "metadata": {
    "collapsed": true
   },
   "outputs": [],
   "source": [
    "import numpy as np\n",
    "from scipy.stats import multivariate_normal, entropy\n",
    "from scipy.ndimage.filters import gaussian_filter\n",
    "from math import floor, atan2, pi, cos, sin, sqrt\n",
    "import time\n",
    "from matplotlib import pyplot as plt"
   ]
  },
  {
   "cell_type": "markdown",
   "metadata": {},
   "source": [
    "### Environment Setup"
   ]
  },
  {
   "cell_type": "code",
   "execution_count": null,
   "metadata": {
    "collapsed": true
   },
   "outputs": [],
   "source": [
    "# constant\n",
    "WHITE = 0\n",
    "YELLOW = 1\n",
    "RED = 2\n",
    "\n",
    "lanewidth = 0.4\n",
    "linewidth_white = 0.04\n",
    "linewidth_yellow = 0.02\n"
   ]
  },
  {
   "cell_type": "markdown",
   "metadata": {},
   "source": [
    "## Generate Vote from Line Segments"
   ]
  },
  {
   "cell_type": "markdown",
   "metadata": {},
   "source": [
    "#### Setup a line segment\n",
    "* left edge of white lane\n",
    "* right edge of white lane\n",
    "* left edge of yellow lane\n",
    "* right edge of white lane"
   ]
  },
  {
   "cell_type": "code",
   "execution_count": null,
   "metadata": {
    "collapsed": false
   },
   "outputs": [],
   "source": [
    "\n",
    "# right edge of white lane\n",
    "#p1 = np.array([0.8, 0.24])\n",
    "#p2 = np.array([0.4, 0.24])\n",
    "p1 = np.array([lines_normalized[0][0],lines_normalized[0][1]])\n",
    "p2 = np.array([lines_normalized[0][2],lines_normalized[0][3]]) \n",
    "seg_color = YELLOW\n",
    "\n",
    "# left edge of white lane\n",
    "#p1 = np.array([0.4, 0.2])\n",
    "#p2 = np.array([0.8, 0.2])\n",
    "#seg_color = WHITE\n",
    "\n",
    "#plt.plot([p1[0], p2[0]], [p1[1], p2[1]], 'ro')\n",
    "#plt.plot([p1[0], p2[0]], [p1[1], p2[1]])\n",
    "#plt.ylabel('y')\n",
    "#plt.axis([0, 5, 0, 5])\n",
    "#plt.show()"
   ]
  },
  {
   "cell_type": "markdown",
   "metadata": {},
   "source": [
    "#### compute d_i, phi_i, l_i"
   ]
  },
  {
   "cell_type": "code",
   "execution_count": null,
   "metadata": {
    "collapsed": false
   },
   "outputs": [],
   "source": [
    "t_hat = (p2-p1)/np.linalg.norm(p2-p1)\n",
    "n_hat = np.array([-t_hat[1],t_hat[0]])\n",
    "d1 = np.inner(n_hat,p1)\n",
    "d2 = np.inner(n_hat,p2)\n",
    "l1 = np.inner(t_hat,p1)\n",
    "l2 = np.inner(t_hat,p2)\n",
    "\n",
    "print (d1, d2, l1, l2)\n",
    "\n",
    "if (l1 < 0):\n",
    "    l1 = -l1;\n",
    "if (l2 < 0):\n",
    "    l2 = -l2;\n",
    "l_i = (l1+l2)/2\n",
    "d_i = (d1+d2)/2\n",
    "phi_i = np.arcsin(t_hat[1])\n",
    "if seg_color == WHITE: # right lane is white\n",
    "    if(p1[0] > p2[0]): # right edge of white lane\n",
    "        d_i = d_i - linewidth_white\n",
    "        print ('right edge of white lane')\n",
    "    else: # left edge of white lane\n",
    "        d_i = - d_i\n",
    "        phi_i = -phi_i\n",
    "        print ('left edge of white lane')\n",
    "    d_i = d_i - lanewidth/2\n",
    "\n",
    "elif seg_color == YELLOW: # left lane is yellow\n",
    "    if (p2[0] > p1[0]): # left edge of yellow lane\n",
    "        d_i = d_i - linewidth_yellow\n",
    "        phi_i = -phi_i\n",
    "        print ('right edge of yellow lane')\n",
    "    else: # right edge of white lane\n",
    "        d_i = -d_i\n",
    "        print ('right edge of yellow lane')\n",
    "    d_i =  lanewidth/2 - d_i\n",
    "\n",
    "    \n",
    "print (d_i, phi_i, l_i) "
   ]
  },
  {
   "cell_type": "markdown",
   "metadata": {},
   "source": [
    "### Measurement Likelihood"
   ]
  },
  {
   "cell_type": "code",
   "execution_count": null,
   "metadata": {
    "collapsed": false
   },
   "outputs": [],
   "source": [
    "# initialize measurement likelihood\n",
    "\n",
    "d_min = -0.7\n",
    "d_max = 0.5\n",
    "delta_d = 0.02\n",
    "phi_min = -pi/2\n",
    "phi_max = pi/2\n",
    "delta_phi = 0.02\n",
    "d, phi = np.mgrid[d_min:d_max:delta_d, phi_min:phi_max:delta_phi]\n",
    "\n",
    "measurement_likelihood = np.zeros(d.shape)\n",
    "\n",
    "fig = plt.figure()\n",
    "ax = fig.add_subplot(111)\n",
    "cax = ax.matshow(measurement_likelihood, interpolation='nearest')\n",
    "fig.colorbar(cax)\n",
    "plt.ylabel('phi')\n",
    "plt.xlabel('d')\n",
    "#ax.set_xticklabels(['']+alpha)\n",
    "#ax.set_yticklabels(['']+alpha)\n",
    "plt.show()\n",
    "\n"
   ]
  },
  {
   "cell_type": "code",
   "execution_count": null,
   "metadata": {
    "collapsed": false
   },
   "outputs": [],
   "source": [
    "i = floor((d_i - d_min)/delta_d)\n",
    "j = floor((phi_i - phi_min)/delta_phi)\n",
    "measurement_likelihood[i,j] = measurement_likelihood[i,j] +  1/(l_i)\n",
    "\n",
    "print (i, j)\n",
    "\n",
    "fig = plt.figure()\n",
    "ax = fig.add_subplot(111)\n",
    "cax = ax.matshow(measurement_likelihood, interpolation='nearest')\n",
    "fig.colorbar(cax)\n",
    "plt.ylabel('phi')\n",
    "plt.xlabel('d')\n",
    "#ax.set_xticklabels(['']+alpha)\n",
    "#ax.set_yticklabels(['']+alpha)\n",
    "plt.show()"
   ]
  },
  {
   "cell_type": "markdown",
   "metadata": {},
   "source": [
    "## Car Command"
   ]
  },
  {
   "cell_type": "markdown",
   "metadata": {},
   "source": [
    "### Import Packages"
   ]
  },
  {
   "cell_type": "code",
   "execution_count": null,
   "metadata": {
    "collapsed": false
   },
   "outputs": [],
   "source": [
    "import numpy as np\n",
    "import scipy as sp\n",
    "import cv2\n",
    "import time\n",
    "\n",
    "from matplotlib import pyplot as plt\n",
    "%matplotlib inline\n",
    "# set display defaults\n",
    "plt.rcParams['figure.figsize'] = (10, 10)        # large images\n",
    "plt.rcParams['image.interpolation'] = 'nearest'  # don't interpolate: show square pixels"
   ]
  },
  {
   "cell_type": "markdown",
   "metadata": {},
   "source": [
    "### ROS Setup"
   ]
  },
  {
   "cell_type": "code",
   "execution_count": null,
   "metadata": {
    "collapsed": true
   },
   "outputs": [],
   "source": [
    "import sys\n",
    "# rospy\n",
    "sys.path.insert(0, '/opt/ros/indigo/lib/python2.7/dist-packages')\n",
    "# rospkg\n",
    "sys.path.insert(0, '/usr/lib/python2.7/dist-packages/')\n",
    "\n",
    "# duckietown_msgs\n",
    "duckietown_root = '../../'  # this file should be run from {duckietown_root}/turorials/python (otherwise change this line)\n",
    "sys.path.insert(0, duckietown_root + 'catkin_ws/devel/lib/python2.7/dist-packages')\n",
    "\n",
    "import rospy\n",
    "from duckietown_msgs.msg import  Twist2DStamped\n"
   ]
  },
  {
   "cell_type": "markdown",
   "metadata": {},
   "source": [
    "### ROS Node\n",
    "\n",
    "You need to open a terminal in Duckiebot and run \n",
    "$ roscore"
   ]
  },
  {
   "cell_type": "code",
   "execution_count": null,
   "metadata": {
    "collapsed": false
   },
   "outputs": [],
   "source": [
    "rospy.init_node(\"joystick_jupyter\",anonymous=False)\n",
    "#please replace \"wama\" with your duckiebot name\n",
    "pub_car_cmd = rospy.Publisher(\"/buyme/joystick_jupyter/car_cmd\",Twist2DStamped,queue_size=1)\n"
   ]
  },
  {
   "cell_type": "markdown",
   "metadata": {},
   "source": [
    "### Define a function for publishing car command "
   ]
  },
  {
   "cell_type": "code",
   "execution_count": null,
   "metadata": {
    "collapsed": true
   },
   "outputs": [],
   "source": [
    "def car_command(v, omega, duration):\n",
    "# Send stop command\n",
    "    car_control_msg = Twist2DStamped()\n",
    "    car_control_msg.v = v \n",
    "    car_control_msg.omega = omega \n",
    "    pub_car_cmd.publish(car_control_msg)\n",
    "    rospy.sleep(duration)\n",
    "    #rospy.loginfo(\"Shutdown\")\n",
    "    car_control_msg.v = 0.0 \n",
    "    car_control_msg.omega = 0.0 \n",
    "    pub_car_cmd.publish(car_control_msg)   "
   ]
  },
  {
   "cell_type": "markdown",
   "metadata": {},
   "source": [
    "### Take a look at the ROS Topics"
   ]
  },
  {
   "cell_type": "code",
   "execution_count": null,
   "metadata": {
    "collapsed": true
   },
   "outputs": [],
   "source": [
    "%%bash\n",
    "rostopic list"
   ]
  },
  {
   "cell_type": "markdown",
   "metadata": {},
   "source": [
    "### Forward (F), Turn Left (L), or Turn Right (R)\n",
    "\n",
    "Send commands and calibrate your duckiebot"
   ]
  },
  {
   "cell_type": "markdown",
   "metadata": {},
   "source": [
    "### Ex1: Forward 0.5 Tile Width"
   ]
  },
  {
   "cell_type": "code",
   "execution_count": null,
   "metadata": {
    "collapsed": true
   },
   "outputs": [],
   "source": [
    "car_command(0.5, 0, 0.75)"
   ]
  },
  {
   "cell_type": "markdown",
   "metadata": {},
   "source": [
    "### EX2: Turn 45 or 90 Degrees"
   ]
  },
  {
   "cell_type": "code",
   "execution_count": null,
   "metadata": {
    "collapsed": true
   },
   "outputs": [],
   "source": [
    "car_command(0.2, 4, 1.005)"
   ]
  },
  {
   "cell_type": "markdown",
   "metadata": {},
   "source": [
    "### Setup a Switch for concat of primitives"
   ]
  },
  {
   "cell_type": "code",
   "execution_count": null,
   "metadata": {
    "collapsed": true
   },
   "outputs": [],
   "source": [
    "class switch(object):\n",
    "    def __init__(self, value):\n",
    "        self.value = value\n",
    "        self.fall = False\n",
    " \n",
    "    def __iter__(self):\n",
    "        \"\"\"Return the match method once, then stop\"\"\"\n",
    "        yield self.match\n",
    "        raise StopIteration\n",
    "     \n",
    "    def match(self, *args):\n",
    "        \"\"\"Indicate whether or not to enter a case suite\"\"\"\n",
    "        if self.fall or not args:\n",
    "            return True\n",
    "        elif self.value in args: # changed for v1.5, see below\n",
    "            self.fall = True\n",
    "            return True\n",
    "        else:\n",
    "            return False\n",
    "\n",
    "def motion_concat(concat):\n",
    "    for i in range(len(concat)):\n",
    "        primitives = concat[i]\n",
    "        for case in switch(primitives):\n",
    "            if case('S'):\n",
    "                car_command(0.5, 0, 0.25)\n",
    "                break\n",
    "            if case('L'):\n",
    "                car_command(0.2, 4, 0.82)\n",
    "                break\n",
    "            if case('R'):\n",
    "                car_command(0.2, -4, 0.78)\n",
    "                break\n",
    "            if case('B'):\n",
    "                car_command(-0.4, 0, 0.5)\n",
    "                break"
   ]
  },
  {
   "cell_type": "markdown",
   "metadata": {},
   "source": [
    "### Ex3: Overtaking"
   ]
  },
  {
   "cell_type": "code",
   "execution_count": null,
   "metadata": {
    "collapsed": true
   },
   "outputs": [],
   "source": [
    "overtaking = \"LSRSSSSRSLSS\"\n",
    "motion_concat(overtaking)"
   ]
  },
  {
   "cell_type": "markdown",
   "metadata": {},
   "source": [
    "## Advanced: Bayes' Filter"
   ]
  },
  {
   "cell_type": "code",
   "execution_count": null,
   "metadata": {
    "collapsed": true
   },
   "outputs": [],
   "source": []
  }
 ],
 "metadata": {
  "anaconda-cloud": {},
  "kernelspec": {
   "display_name": "Python 2",
   "language": "python",
   "name": "python2"
  },
  "language_info": {
   "codemirror_mode": {
    "name": "ipython",
    "version": 2
   },
   "file_extension": ".py",
   "mimetype": "text/x-python",
   "name": "python",
   "nbconvert_exporter": "python",
   "pygments_lexer": "ipython2",
   "version": "2.7.12"
  }
 },
 "nbformat": 4,
 "nbformat_minor": 1
}
